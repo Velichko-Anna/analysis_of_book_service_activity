{
 "cells": [
  {
   "cell_type": "markdown",
   "id": "_E41Wr5fqnFT",
   "metadata": {
    "id": "_E41Wr5fqnFT"
   },
   "source": [
    "# Проверка гипотезы и составление аналитической записки"
   ]
  },
  {
   "cell_type": "markdown",
   "id": "4149134c",
   "metadata": {
    "id": "4149134c"
   },
   "source": [
    "## Цели и задачи проекта\n",
    "\n",
    "**Цель проекта:** статистически доказать выдвинутую нами гипотезу о том, что пользователи из Санкт-Петербурга проводят в среднем больше времени за чтением и прослушиваением книг в приложении N Книги, чем пользователи из Москвы.\n",
    "\n",
    "**Задачи проекта:**\n",
    "- Загрузить данные пользователей из Москвы и Санкт-Петербурга\n",
    "- Проверить наличие дубликатов в идентификаторах пользователей\n",
    "- Сравнить размеры двух групп, их статистики и распределение\n",
    "- Попробовать статистически доказать выдвинутую гипотезу\n",
    "- По результатам анализа данных подготовить аналитическую записку"
   ]
  },
  {
   "cell_type": "markdown",
   "id": "728986ea",
   "metadata": {
    "id": "728986ea"
   },
   "source": [
    "## Описание данных\n",
    "\n",
    "В наших руках датасет `/datasets/knigi_data.csv` с данными пользователей из Москвы и Санкт-Петербурга и их активностью (суммой часов чтения и прослушивания). \n",
    "\n",
    "- `city` - название города (Москва или Санкт-Петербург)\n",
    "- `puid` - идентификатор пользователя\n",
    "- `hours` - сумма часов чтения и прослушивания"
   ]
  },
  {
   "cell_type": "markdown",
   "id": "4fecaf95",
   "metadata": {
    "id": "4fecaf95"
   },
   "source": [
    "## Содержимое проекта\n",
    "\n",
    "Содержание проекта отражает поставленные задачи, продублируем их:\n",
    "- Загрузить данные пользователей из Москвы и Санкт-Петербурга\n",
    "- Проверить наличие дубликатов в идентификаторах пользователей\n",
    "- Сравнить размеры двух групп, их статистики и распределение\n",
    "- Попробовать статистически доказать выдвинутую гипотезу\n",
    "- По результатам анализа данных подготовить аналитическую записку\n",
    "\n",
    "---"
   ]
  },
  {
   "cell_type": "markdown",
   "id": "6f7d21d6",
   "metadata": {
    "id": "6f7d21d6"
   },
   "source": [
    "## 1. Загрузка данных и знакомство с ними\n",
    "\n",
    "Загрузим данные пользователей из Москвы и Санкт-Петербурга c их активностью (суммой часов чтения и прослушивания) из файла `/datasets/knigi_data.csv`."
   ]
  },
  {
   "cell_type": "code",
   "execution_count": null,
   "id": "05faf34b",
   "metadata": {
    "id": "05faf34b"
   },
   "outputs": [],
   "source": [
    "# импортируем библиотеки\n",
    "import pandas as pd\n",
    "import matplotlib.pyplot as plt\n",
    "from scipy import stats as st\n",
    "from scipy.stats import ttest_ind, mannwhitneyu\n",
    "from statsmodels.stats.proportion import proportions_ztest\n",
    "from statsmodels.stats.power import NormalIndPower\n",
    "from statsmodels.stats.proportion import proportion_effectsize"
   ]
  },
  {
   "cell_type": "code",
   "execution_count": null,
   "id": "ce87c1db",
   "metadata": {
    "id": "ce87c1db"
   },
   "outputs": [
    {
     "data": {
      "text/html": [
       "<div>\n",
       "<style scoped>\n",
       "    .dataframe tbody tr th:only-of-type {\n",
       "        vertical-align: middle;\n",
       "    }\n",
       "\n",
       "    .dataframe tbody tr th {\n",
       "        vertical-align: top;\n",
       "    }\n",
       "\n",
       "    .dataframe thead th {\n",
       "        text-align: right;\n",
       "    }\n",
       "</style>\n",
       "<table border=\"1\" class=\"dataframe\">\n",
       "  <thead>\n",
       "    <tr style=\"text-align: right;\">\n",
       "      <th></th>\n",
       "      <th>Unnamed: 0</th>\n",
       "      <th>city</th>\n",
       "      <th>puid</th>\n",
       "      <th>hours</th>\n",
       "    </tr>\n",
       "  </thead>\n",
       "  <tbody>\n",
       "    <tr>\n",
       "      <th>0</th>\n",
       "      <td>0</td>\n",
       "      <td>Москва</td>\n",
       "      <td>9668</td>\n",
       "      <td>26.167776</td>\n",
       "    </tr>\n",
       "    <tr>\n",
       "      <th>1</th>\n",
       "      <td>1</td>\n",
       "      <td>Москва</td>\n",
       "      <td>16598</td>\n",
       "      <td>82.111217</td>\n",
       "    </tr>\n",
       "    <tr>\n",
       "      <th>2</th>\n",
       "      <td>2</td>\n",
       "      <td>Москва</td>\n",
       "      <td>80401</td>\n",
       "      <td>4.656906</td>\n",
       "    </tr>\n",
       "    <tr>\n",
       "      <th>3</th>\n",
       "      <td>3</td>\n",
       "      <td>Москва</td>\n",
       "      <td>140205</td>\n",
       "      <td>1.840556</td>\n",
       "    </tr>\n",
       "    <tr>\n",
       "      <th>4</th>\n",
       "      <td>4</td>\n",
       "      <td>Москва</td>\n",
       "      <td>248755</td>\n",
       "      <td>151.326434</td>\n",
       "    </tr>\n",
       "  </tbody>\n",
       "</table>\n",
       "</div>"
      ],
      "text/plain": [
       "   Unnamed: 0    city    puid       hours\n",
       "0           0  Москва    9668   26.167776\n",
       "1           1  Москва   16598   82.111217\n",
       "2           2  Москва   80401    4.656906\n",
       "3           3  Москва  140205    1.840556\n",
       "4           4  Москва  248755  151.326434"
      ]
     },
     "execution_count": 2,
     "metadata": {},
     "output_type": "execute_result"
    }
   ],
   "source": [
    "# выгружаем данные\n",
    "knigi_data = pd.read_csv('path/knigi_data.csv')\n",
    "\n",
    "knigi_data.head()"
   ]
  },
  {
   "cell_type": "markdown",
   "id": "dedfd8c2",
   "metadata": {
    "id": "f68a7419"
   },
   "source": [
    "### 1.1. Проверка наличия дубликатов"
   ]
  },
  {
   "cell_type": "code",
   "execution_count": 3,
   "id": "36ce8dd0",
   "metadata": {},
   "outputs": [
    {
     "name": "stdout",
     "output_type": "stream",
     "text": [
      "Кол-во дубликатов равно 244\n"
     ]
    }
   ],
   "source": [
    "print(f\"Кол-во дубликатов равно {knigi_data['puid'].duplicated().sum()}\")"
   ]
  },
  {
   "cell_type": "code",
   "execution_count": 4,
   "id": "10bddfd1",
   "metadata": {},
   "outputs": [
    {
     "name": "stdout",
     "output_type": "stream",
     "text": [
      "После удаления осталось 0 дубликатов\n"
     ]
    }
   ],
   "source": [
    "# удалим дубликаты\n",
    "knigi_data = knigi_data.drop_duplicates(subset='puid')\n",
    "print(f\"После удаления осталось {knigi_data['puid'].duplicated().sum()} дубликатов\")"
   ]
  },
  {
   "cell_type": "markdown",
   "id": "04653849",
   "metadata": {},
   "source": [
    "### 1.2. Сравнение групп"
   ]
  },
  {
   "cell_type": "code",
   "execution_count": 5,
   "id": "e7ea0029",
   "metadata": {},
   "outputs": [
    {
     "name": "stdout",
     "output_type": "stream",
     "text": [
      "\n",
      "Кол-во пользователей с Москвы: 6234\n",
      "Кол-во пользователей с Санкт-Петерберга: 2306\n",
      "Разница в группах составляет 63%\n"
     ]
    }
   ],
   "source": [
    "# разделим пользователей на две группы по городам\n",
    "moscow_data = knigi_data[knigi_data['city'] == 'Москва']\n",
    "piter_data = knigi_data[knigi_data['city'] == 'Санкт-Петербург']\n",
    "shape = round(100 * ((abs(len(moscow_data) - len(piter_data))) / len(moscow_data)), 3)\n",
    "\n",
    "print(f'\\nКол-во пользователей с Москвы: {len(moscow_data)}\\nКол-во пользователей с Санкт-Петерберга: {len(piter_data)}\\nРазница в группах составляет {round(shape)}%')"
   ]
  },
  {
   "cell_type": "code",
   "execution_count": 6,
   "id": "f098bff5",
   "metadata": {},
   "outputs": [
    {
     "data": {
      "image/png": "[encoded data removed]",
      "text/plain": [
       "<Figure size 720x432 with 1 Axes>"
      ]
     },
     "metadata": {
      "needs_background": "light"
     },
     "output_type": "display_data"
    }
   ],
   "source": [
    "# построим столбчатую диаграмму\n",
    "plt.figure(figsize=(10, 6))\n",
    "\n",
    "grouped_data = knigi_data.groupby('city')['puid'].nunique()\n",
    "plt.bar(grouped_data.index, grouped_data.values)\n",
    "\n",
    "plt.title('Кол-во пользователей в каждой группе')\n",
    "plt.xlabel('Группы')\n",
    "plt.ylabel('Кол-во участников')\n",
    "\n",
    "plt.show()"
   ]
  },
  {
   "cell_type": "markdown",
   "id": "6986f262",
   "metadata": {},
   "source": [
    "Видно, что группа с пользователями из Москвы значительно больше группы с пользователями из Санкт-Петербурга, посмотрим их статистики и распределение:"
   ]
  },
  {
   "cell_type": "code",
   "execution_count": 7,
   "id": "a7efc5d4",
   "metadata": {},
   "outputs": [
    {
     "name": "stdout",
     "output_type": "stream",
     "text": [
      "Пользователей, которые одновременно встречаются в обоих группах, нет\n"
     ]
    }
   ],
   "source": [
    "# проверим совпадения пользователей\n",
    "merged_group_df = pd.merge(moscow_data, piter_data, how='inner', on=list(moscow_data.columns))\n",
    "\n",
    "# проверяем наличие совпадающих строк\n",
    "if merged_group_df.empty:\n",
    "    print(\"Пользователей, которые одновременно встречаются в обоих группах, нет\")\n",
    "else:\n",
    "    print(\"Есть совпадающие пользователи:\", merged_df)"
   ]
  },
  {
   "cell_type": "code",
   "execution_count": 8,
   "id": "da3ada0d",
   "metadata": {},
   "outputs": [
    {
     "name": "stdout",
     "output_type": "stream",
     "text": [
      "city\n",
      "Москва             10.881092\n",
      "Санкт-Петербург    11.264433\n",
      "Name: hours, dtype: float64\n"
     ]
    }
   ],
   "source": [
    "\n",
    "grouped_knigi = knigi_data.groupby('city')['hours'].mean()\n",
    "print(grouped_knigi)"
   ]
  },
  {
   "cell_type": "markdown",
   "id": "d7f5c2a9",
   "metadata": {},
   "source": [
    "Мы видим, что пользователи из Санкт-Петербурга гораздо больше проводят времени в приложении, чем пользователи с Москвы. Распределение Московских пользователей находится в рамках от нуля до шести с небольшим тысяч, в то время как распределение Санкт-Петербурга от шести с небольшим тысяч. "
   ]
  },
  {
   "cell_type": "code",
   "execution_count": 9,
   "id": "5413337c",
   "metadata": {},
   "outputs": [
    {
     "name": "stdout",
     "output_type": "stream",
     "text": [
      "Рассмотрим статистики пользователей с Москвы:\n",
      "count    6234.000000\n",
      "mean       10.881092\n",
      "std        36.851683\n",
      "min         0.000018\n",
      "25%         0.059903\n",
      "50%         0.924498\n",
      "75%         5.939972\n",
      "max       857.209373\n",
      "Name: hours, dtype: float64\n",
      "\n",
      "Рассмотрим статистики пользователей с Санкт-Петербурга:\n",
      "count    2306.000000\n",
      "mean       11.264433\n",
      "std        39.831755\n",
      "min         0.000025\n",
      "25%         0.060173\n",
      "50%         0.875355\n",
      "75%         6.138424\n",
      "max       978.764775\n",
      "Name: hours, dtype: float64\n"
     ]
    }
   ],
   "source": [
    "print('Рассмотрим статистики пользователей с Москвы:')\n",
    "print(moscow_data['hours'].describe())\n",
    "\n",
    "print('\\nРассмотрим статистики пользователей с Санкт-Петербурга:')\n",
    "print(piter_data['hours'].describe())"
   ]
  },
  {
   "cell_type": "markdown",
   "id": "0e4bec4c",
   "metadata": {},
   "source": [
    "- Кол-во пользователей с Москвы, как мы выяснили уже ранее, 6 234 пользователя, кол-во пользователей с Санкт-Петербурга 2 306 пользователей\n",
    "- Среднее количество часов у пользователей из Санкт-Петербурга слегка выше, чем у москвичей. Разница небольшая, но потенциально значимая\n",
    "- Показатель стандартного отклонения выше у жителей Санкт-Петербурга, что говорит о большем разбросе данных в этой выборке\n",
    "- Минимальное значение у обоих городов близко к нулю\n",
    "- Медианное значение продолжительности использования приложения у большинства пользователей в Москве немного выше, чем в Санкт-Петербурге.\n",
    "- Максимальное количество часов, проведённых пользователями, выше у Санкт-Петербурга, что связано с наличием отдельных крайне активных пользователей."
   ]
  },
  {
   "cell_type": "markdown",
   "id": "c64834b5",
   "metadata": {},
   "source": [
    "**Вывод:** две выборки очень разные по своим данным, первая группа (Москва) на 63% больше второй группы, распределение по количеству часов тоже различается в группах."
   ]
  },
  {
   "cell_type": "markdown",
   "id": "956e82e2",
   "metadata": {
    "id": "956e82e2"
   },
   "source": [
    "## 2. Проверка гипотезы в Python\n",
    "\n",
    "Гипотеза звучит так: пользователи из Санкт-Петербурга проводят в среднем больше времени за чтением и прослушиванием книг в приложении, чем пользователи из Москвы. Попробуем статистически это доказать, используя одностороннюю проверку гипотезы с двумя выборками:\n",
    "\n",
    "- Нулевая гипотеза H₀: Средняя активность пользователей в часах в двух группах (Москва и Санкт-Петербург) не различается.\n",
    "\n",
    "- Альтернативная гипотеза H₁: Средняя активность пользователей в Санкт-Петербурге больше, и это различие статистически значимо."
   ]
  },
  {
   "cell_type": "markdown",
   "id": "65d68c6d",
   "metadata": {},
   "source": [
    "Проведем  тест Манни-Уитни, так как у нас есть выбросы и распределения достаточно сильно сдвинуты."
   ]
  },
  {
   "cell_type": "code",
   "execution_count": 12,
   "id": "16b35da6",
   "metadata": {},
   "outputs": [
    {
     "name": "stdout",
     "output_type": "stream",
     "text": [
      "Значение p_value равно=0.6189600878052618\n",
      "Нулевая гипотеза находит подтверждение\n"
     ]
    }
   ],
   "source": [
    "# проведем тест Манна-Уитни для сравнения распределения часов \n",
    "\n",
    "alpha = 0.05 # уровень значимости\n",
    "\n",
    "stat_mw, p_value_mw = mannwhitneyu(\n",
    "    piter_data['hours'], \n",
    "    moscow_data['hours'], \n",
    "    alternative='greater'\n",
    ") \n",
    "\n",
    "print(f'Значение p_value равно={p_value_mw}')\n",
    "if p_value_mw > alpha:\n",
    "    print('Нулевая гипотеза находит подтверждение')\n",
    "else:\n",
    "    print('Нулевая гипотеза не находит подтверждения')"
   ]
  },
  {
   "cell_type": "markdown",
   "id": "ee201d6b",
   "metadata": {},
   "source": [
    "**Вывод:** проведенный статистический тест показан, что альтернативная гипотеза не нашла подтверждения, отсюда следует, что нельзя утверждать, что средняя активность пользователей из Санкт-Петербурга выше, чем у пользователей Москвы "
   ]
  },
  {
   "cell_type": "markdown",
   "id": "6953e84c",
   "metadata": {
    "id": "6953e84c"
   },
   "source": [
    "## 3. Аналитическая записка"
   ]
  },
  {
   "cell_type": "markdown",
   "id": "8b62b1ed",
   "metadata": {},
   "source": [
    "По результатам анализа зафиксируем выводы. Был проведенен статистический тест: тест Манна-Уитни для анализа распределения.\n",
    "\n",
    "- Уровень статистической значимости составляет 0.05\n",
    "- p_value составило 0.6189600878052618\n",
    "- Тест показал, что у нас нет оснований отвергать нулевую гипотезу о том, что средняя активность пользователей из Санкт-Петербурга выше, чем у пользователей из Москвы. \n",
    "- На самом деле вывод, возможно, сделан ошибочно, так как в группе пользователей Санкт-Петербурга на 63% меньше данных, чем группы пользователей из Москвы. Отсюда можно сделать вывод, что необходимо собрать группы одинакового размера и повторно провести анализ для более точных результатов. "
   ]
  }
 ],
 "metadata": {
  "ExecuteTimeLog": [
   {
    "duration": 416,
    "start_time": "2025-08-06T11:37:48.885Z"
   },
   {
    "duration": 59,
    "start_time": "2025-08-06T11:37:49.384Z"
   },
   {
    "duration": 2,
    "start_time": "2025-08-06T11:41:50.083Z"
   },
   {
    "duration": 74,
    "start_time": "2025-08-06T11:41:59.161Z"
   },
   {
    "duration": 9,
    "start_time": "2025-08-06T11:45:44.625Z"
   },
   {
    "duration": 16,
    "start_time": "2025-08-06T11:49:09.441Z"
   },
   {
    "duration": 7,
    "start_time": "2025-08-06T11:49:13.878Z"
   },
   {
    "duration": 8,
    "start_time": "2025-08-06T11:49:23.018Z"
   },
   {
    "duration": 15,
    "start_time": "2025-08-06T11:49:29.447Z"
   },
   {
    "duration": 7,
    "start_time": "2025-08-06T11:49:33.278Z"
   },
   {
    "duration": 14,
    "start_time": "2025-08-06T11:49:37.764Z"
   },
   {
    "duration": 5,
    "start_time": "2025-08-06T11:50:42.530Z"
   },
   {
    "duration": 5,
    "start_time": "2025-08-06T11:50:46.174Z"
   },
   {
    "duration": 4,
    "start_time": "2025-08-06T11:50:50.604Z"
   },
   {
    "duration": 4,
    "start_time": "2025-08-06T11:50:54.169Z"
   },
   {
    "duration": 5,
    "start_time": "2025-08-06T11:51:05.430Z"
   },
   {
    "duration": 122,
    "start_time": "2025-08-06T11:52:17.158Z"
   },
   {
    "duration": 4,
    "start_time": "2025-08-06T11:52:24.100Z"
   },
   {
    "duration": 6,
    "start_time": "2025-08-06T11:52:55.241Z"
   },
   {
    "duration": 7,
    "start_time": "2025-08-06T11:53:02.527Z"
   },
   {
    "duration": 5,
    "start_time": "2025-08-06T11:53:09.198Z"
   },
   {
    "duration": 1248,
    "start_time": "2025-08-06T11:53:14.670Z"
   },
   {
    "duration": 1046,
    "start_time": "2025-08-06T11:53:27.498Z"
   },
   {
    "duration": 1080,
    "start_time": "2025-08-06T11:53:53.925Z"
   },
   {
    "duration": 1106,
    "start_time": "2025-08-06T11:54:08.589Z"
   },
   {
    "duration": 1057,
    "start_time": "2025-08-06T11:54:14.118Z"
   },
   {
    "duration": 51,
    "start_time": "2025-08-06T11:54:21.390Z"
   },
   {
    "duration": 81,
    "start_time": "2025-08-06T11:54:42.873Z"
   },
   {
    "duration": 4,
    "start_time": "2025-08-06T11:54:45.673Z"
   },
   {
    "duration": 7,
    "start_time": "2025-08-06T11:54:53.583Z"
   },
   {
    "duration": 1279,
    "start_time": "2025-08-06T11:54:57.683Z"
   },
   {
    "duration": 8,
    "start_time": "2025-08-06T11:55:39.355Z"
   },
   {
    "duration": 8,
    "start_time": "2025-08-06T11:56:07.216Z"
   },
   {
    "duration": 8,
    "start_time": "2025-08-06T11:56:21.285Z"
   },
   {
    "duration": 8,
    "start_time": "2025-08-06T11:56:28.257Z"
   },
   {
    "duration": 9,
    "start_time": "2025-08-06T11:57:26.655Z"
   },
   {
    "duration": 56,
    "start_time": "2025-08-06T11:57:32.448Z"
   },
   {
    "duration": 7,
    "start_time": "2025-08-06T11:57:35.028Z"
   },
   {
    "duration": 5,
    "start_time": "2025-08-06T11:57:37.305Z"
   },
   {
    "duration": 9,
    "start_time": "2025-08-06T11:57:37.901Z"
   },
   {
    "duration": 7,
    "start_time": "2025-08-06T11:58:14.950Z"
   },
   {
    "duration": 8,
    "start_time": "2025-08-06T11:58:29.441Z"
   },
   {
    "duration": 11,
    "start_time": "2025-08-06T11:58:54.686Z"
   },
   {
    "duration": 13,
    "start_time": "2025-08-06T11:59:15.429Z"
   },
   {
    "duration": 11,
    "start_time": "2025-08-06T11:59:45.896Z"
   },
   {
    "duration": 10,
    "start_time": "2025-08-06T12:01:17.044Z"
   },
   {
    "duration": 6,
    "start_time": "2025-08-06T12:02:42.367Z"
   },
   {
    "duration": 7,
    "start_time": "2025-08-06T12:02:45.969Z"
   },
   {
    "duration": 2,
    "start_time": "2025-08-06T12:03:06.301Z"
   },
   {
    "duration": 7,
    "start_time": "2025-08-06T12:03:10.784Z"
   },
   {
    "duration": 8,
    "start_time": "2025-08-06T12:05:19.125Z"
   },
   {
    "duration": 100,
    "start_time": "2025-08-06T12:05:42.162Z"
   },
   {
    "duration": 7,
    "start_time": "2025-08-06T12:05:45.854Z"
   },
   {
    "duration": 8,
    "start_time": "2025-08-06T12:06:21.149Z"
   },
   {
    "duration": 9,
    "start_time": "2025-08-06T12:07:32.762Z"
   },
   {
    "duration": 2,
    "start_time": "2025-08-06T12:07:50.846Z"
   },
   {
    "duration": 455,
    "start_time": "2025-08-06T12:07:52.825Z"
   },
   {
    "duration": 274,
    "start_time": "2025-08-06T12:07:56.843Z"
   },
   {
    "duration": 16,
    "start_time": "2025-08-06T12:09:01.724Z"
   },
   {
    "duration": 14,
    "start_time": "2025-08-06T12:09:08.559Z"
   },
   {
    "duration": 130,
    "start_time": "2025-08-06T12:09:24.901Z"
   },
   {
    "duration": 13,
    "start_time": "2025-08-06T12:11:19.249Z"
   },
   {
    "duration": 11,
    "start_time": "2025-08-06T12:11:23.829Z"
   },
   {
    "duration": 7,
    "start_time": "2025-08-06T12:13:42.644Z"
   },
   {
    "duration": 268,
    "start_time": "2025-08-06T12:14:40.994Z"
   },
   {
    "duration": 192,
    "start_time": "2025-08-06T12:15:11.199Z"
   },
   {
    "duration": 185,
    "start_time": "2025-08-06T12:15:14.859Z"
   },
   {
    "duration": 218,
    "start_time": "2025-08-06T12:15:24.928Z"
   },
   {
    "duration": 208,
    "start_time": "2025-08-06T12:15:40.669Z"
   },
   {
    "duration": 209,
    "start_time": "2025-08-06T12:15:47.520Z"
   },
   {
    "duration": 216,
    "start_time": "2025-08-06T12:17:15.903Z"
   },
   {
    "duration": 109,
    "start_time": "2025-08-06T12:17:49.402Z"
   },
   {
    "duration": 92,
    "start_time": "2025-08-06T12:17:55.759Z"
   },
   {
    "duration": 218,
    "start_time": "2025-08-06T12:18:04.534Z"
   },
   {
    "duration": 210,
    "start_time": "2025-08-06T12:18:15.220Z"
   },
   {
    "duration": 89,
    "start_time": "2025-08-06T12:19:14.350Z"
   },
   {
    "duration": 10,
    "start_time": "2025-08-06T12:25:00.315Z"
   },
   {
    "duration": 512,
    "start_time": "2025-08-06T12:25:17.859Z"
   },
   {
    "duration": 55,
    "start_time": "2025-08-06T12:25:22.035Z"
   },
   {
    "duration": 6,
    "start_time": "2025-08-06T12:25:38.052Z"
   },
   {
    "duration": 195,
    "start_time": "2025-08-06T12:26:14.758Z"
   },
   {
    "duration": 198,
    "start_time": "2025-08-06T12:26:20.586Z"
   },
   {
    "duration": 182,
    "start_time": "2025-08-06T12:27:03.352Z"
   },
   {
    "duration": 204,
    "start_time": "2025-08-06T12:27:15.021Z"
   },
   {
    "duration": 183,
    "start_time": "2025-08-06T12:27:52.506Z"
   },
   {
    "duration": 187,
    "start_time": "2025-08-06T12:27:58.701Z"
   },
   {
    "duration": 8,
    "start_time": "2025-08-06T12:29:30.219Z"
   },
   {
    "duration": 10,
    "start_time": "2025-08-06T12:29:44.335Z"
   },
   {
    "duration": 9,
    "start_time": "2025-08-06T12:29:51.299Z"
   },
   {
    "duration": 8,
    "start_time": "2025-08-06T12:29:56.823Z"
   },
   {
    "duration": 13,
    "start_time": "2025-08-06T12:30:02.648Z"
   },
   {
    "duration": 6,
    "start_time": "2025-08-06T12:31:45.612Z"
   },
   {
    "duration": 21,
    "start_time": "2025-08-06T12:33:46.523Z"
   },
   {
    "duration": 13,
    "start_time": "2025-08-06T12:33:56.278Z"
   },
   {
    "duration": 7,
    "start_time": "2025-08-06T12:36:37.650Z"
   },
   {
    "duration": 6,
    "start_time": "2025-08-06T12:36:47.816Z"
   },
   {
    "duration": 3,
    "start_time": "2025-08-06T12:37:27.401Z"
   },
   {
    "duration": 13,
    "start_time": "2025-08-06T12:38:40.791Z"
   },
   {
    "duration": 13,
    "start_time": "2025-08-06T12:38:48.643Z"
   },
   {
    "duration": 13,
    "start_time": "2025-08-06T12:39:19.179Z"
   },
   {
    "duration": 14,
    "start_time": "2025-08-06T12:39:30.299Z"
   },
   {
    "duration": 2,
    "start_time": "2025-08-06T13:21:15.386Z"
   },
   {
    "duration": 10,
    "start_time": "2025-08-06T13:21:20.667Z"
   },
   {
    "duration": 1910,
    "start_time": "2025-08-06T13:21:24.413Z"
   },
   {
    "duration": 10,
    "start_time": "2025-08-06T13:21:26.326Z"
   },
   {
    "duration": 9,
    "start_time": "2025-08-06T13:22:13.919Z"
   },
   {
    "duration": 18,
    "start_time": "2025-08-06T13:26:24.948Z"
   },
   {
    "duration": 84,
    "start_time": "2025-08-06T13:26:41.993Z"
   },
   {
    "duration": 7,
    "start_time": "2025-08-06T13:30:34.509Z"
   },
   {
    "duration": 11,
    "start_time": "2025-08-06T13:31:56.560Z"
   },
   {
    "duration": 9,
    "start_time": "2025-08-06T13:32:06.962Z"
   },
   {
    "duration": 151,
    "start_time": "2025-08-06T13:32:59.062Z"
   },
   {
    "duration": 242,
    "start_time": "2025-08-06T13:33:08.730Z"
   },
   {
    "duration": 21,
    "start_time": "2025-08-06T13:33:45.595Z"
   },
   {
    "duration": 123,
    "start_time": "2025-08-06T13:33:56.700Z"
   },
   {
    "duration": 14,
    "start_time": "2025-08-06T13:39:43.102Z"
   },
   {
    "duration": 118,
    "start_time": "2025-08-06T13:40:09.544Z"
   },
   {
    "duration": 5,
    "start_time": "2025-08-06T13:42:09.026Z"
   },
   {
    "duration": 10,
    "start_time": "2025-08-06T13:42:22.863Z"
   },
   {
    "duration": 12,
    "start_time": "2025-08-06T13:42:35.976Z"
   },
   {
    "duration": 8,
    "start_time": "2025-08-06T13:44:46.276Z"
   },
   {
    "duration": 120,
    "start_time": "2025-08-06T13:44:46.903Z"
   },
   {
    "duration": 83,
    "start_time": "2025-08-06T13:45:26.787Z"
   },
   {
    "duration": 78,
    "start_time": "2025-08-06T13:46:12.330Z"
   },
   {
    "duration": 23,
    "start_time": "2025-08-06T13:49:11.309Z"
   },
   {
    "duration": 10,
    "start_time": "2025-08-06T13:50:24.498Z"
   },
   {
    "duration": 19,
    "start_time": "2025-08-06T13:50:26.638Z"
   },
   {
    "duration": 90,
    "start_time": "2025-08-06T13:50:55.432Z"
   },
   {
    "duration": 21,
    "start_time": "2025-08-06T13:50:59.079Z"
   },
   {
    "duration": 48,
    "start_time": "2025-08-06T13:52:13.956Z"
   },
   {
    "duration": 1425,
    "start_time": "2025-08-06T13:52:56.516Z"
   },
   {
    "duration": 41,
    "start_time": "2025-08-06T13:53:22.487Z"
   },
   {
    "duration": 62,
    "start_time": "2025-08-06T13:53:29.436Z"
   },
   {
    "duration": 80,
    "start_time": "2025-08-06T13:53:41.106Z"
   },
   {
    "duration": 42,
    "start_time": "2025-08-06T13:53:43.079Z"
   },
   {
    "duration": 15,
    "start_time": "2025-08-06T13:53:51.972Z"
   },
   {
    "duration": 24,
    "start_time": "2025-08-06T13:53:56.541Z"
   },
   {
    "duration": 14,
    "start_time": "2025-08-06T13:54:10.103Z"
   },
   {
    "duration": 25,
    "start_time": "2025-08-06T13:55:01.064Z"
   },
   {
    "duration": 14,
    "start_time": "2025-08-06T13:55:27.806Z"
   },
   {
    "duration": 21,
    "start_time": "2025-08-06T13:55:33.906Z"
   },
   {
    "duration": 8,
    "start_time": "2025-08-06T13:55:39.791Z"
   },
   {
    "duration": 9,
    "start_time": "2025-08-06T13:56:02.319Z"
   },
   {
    "duration": 116,
    "start_time": "2025-08-06T13:56:50.011Z"
   },
   {
    "duration": 16,
    "start_time": "2025-08-06T13:57:16.927Z"
   },
   {
    "duration": 15,
    "start_time": "2025-08-06T13:57:20.835Z"
   },
   {
    "duration": 9,
    "start_time": "2025-08-06T13:57:25.071Z"
   },
   {
    "duration": 24,
    "start_time": "2025-08-06T14:02:47.466Z"
   },
   {
    "duration": 19,
    "start_time": "2025-08-06T14:07:08.862Z"
   },
   {
    "duration": 17,
    "start_time": "2025-08-06T14:08:23.166Z"
   },
   {
    "duration": 128,
    "start_time": "2025-08-06T14:11:52.582Z"
   },
   {
    "duration": 138,
    "start_time": "2025-08-06T14:14:01.773Z"
   },
   {
    "duration": 5,
    "start_time": "2025-08-06T14:15:32.787Z"
   },
   {
    "duration": 9,
    "start_time": "2025-08-06T14:16:10.987Z"
   },
   {
    "duration": 12,
    "start_time": "2025-08-06T14:17:22.887Z"
   },
   {
    "duration": 43,
    "start_time": "2025-08-06T14:18:31.744Z"
   },
   {
    "duration": 38,
    "start_time": "2025-08-06T14:18:48.772Z"
   },
   {
    "duration": 38,
    "start_time": "2025-08-06T14:18:56.803Z"
   },
   {
    "duration": 62,
    "start_time": "2025-08-06T14:19:26.226Z"
   },
   {
    "duration": 33,
    "start_time": "2025-08-06T14:20:01.419Z"
   },
   {
    "duration": 33,
    "start_time": "2025-08-06T14:20:05.374Z"
   },
   {
    "duration": 62,
    "start_time": "2025-08-06T14:20:43.888Z"
   },
   {
    "duration": 18,
    "start_time": "2025-08-06T14:21:52.666Z"
   },
   {
    "duration": 10,
    "start_time": "2025-08-06T14:23:30.021Z"
   },
   {
    "duration": 17,
    "start_time": "2025-08-06T14:24:06.584Z"
   },
   {
    "duration": 16,
    "start_time": "2025-08-06T14:24:46.565Z"
   },
   {
    "duration": 2,
    "start_time": "2025-08-06T14:25:49.589Z"
   },
   {
    "duration": 5,
    "start_time": "2025-08-06T14:25:51.357Z"
   },
   {
    "duration": 5,
    "start_time": "2025-08-06T14:26:02.352Z"
   },
   {
    "duration": 4,
    "start_time": "2025-08-06T14:26:43.552Z"
   },
   {
    "duration": 6,
    "start_time": "2025-08-06T14:45:37.065Z"
   },
   {
    "duration": 6,
    "start_time": "2025-08-06T14:46:06.465Z"
   },
   {
    "duration": 5,
    "start_time": "2025-08-06T14:46:10.650Z"
   },
   {
    "duration": 16,
    "start_time": "2025-08-06T14:46:36.939Z"
   },
   {
    "duration": 3,
    "start_time": "2025-08-06T14:46:58.919Z"
   },
   {
    "duration": 5,
    "start_time": "2025-08-06T14:47:02.335Z"
   },
   {
    "duration": 5,
    "start_time": "2025-08-06T14:47:07.370Z"
   },
   {
    "duration": 6,
    "start_time": "2025-08-06T14:47:16.414Z"
   },
   {
    "duration": 5,
    "start_time": "2025-08-06T14:47:28.575Z"
   },
   {
    "duration": 1323,
    "start_time": "2025-08-07T15:32:12.822Z"
   },
   {
    "duration": 73,
    "start_time": "2025-08-07T15:32:14.147Z"
   },
   {
    "duration": 5,
    "start_time": "2025-08-07T15:32:16.017Z"
   },
   {
    "duration": 7,
    "start_time": "2025-08-07T15:32:16.468Z"
   },
   {
    "duration": 9,
    "start_time": "2025-08-07T15:32:17.806Z"
   },
   {
    "duration": 123,
    "start_time": "2025-08-07T15:32:18.210Z"
   },
   {
    "duration": 12,
    "start_time": "2025-08-07T15:32:19.451Z"
   },
   {
    "duration": 8,
    "start_time": "2025-08-07T15:32:20.089Z"
   },
   {
    "duration": 6,
    "start_time": "2025-08-07T15:32:22.422Z"
   },
   {
    "duration": 20,
    "start_time": "2025-08-07T15:32:43.566Z"
   },
   {
    "duration": 17,
    "start_time": "2025-08-07T15:33:39.177Z"
   },
   {
    "duration": 8,
    "start_time": "2025-08-07T15:33:53.027Z"
   },
   {
    "duration": 10,
    "start_time": "2025-08-07T15:34:11.238Z"
   },
   {
    "duration": 12,
    "start_time": "2025-08-07T15:34:55.123Z"
   },
   {
    "duration": 10,
    "start_time": "2025-08-07T15:35:06.550Z"
   },
   {
    "duration": 10,
    "start_time": "2025-08-07T15:37:52.830Z"
   },
   {
    "duration": 114,
    "start_time": "2025-08-07T15:41:38.091Z"
   },
   {
    "duration": 87,
    "start_time": "2025-08-07T15:43:10.089Z"
   },
   {
    "duration": 92,
    "start_time": "2025-08-07T15:46:12.847Z"
   },
   {
    "duration": 11,
    "start_time": "2025-08-07T15:46:20.051Z"
   },
   {
    "duration": 5,
    "start_time": "2025-08-07T15:46:23.488Z"
   },
   {
    "duration": 4,
    "start_time": "2025-08-07T15:46:24.087Z"
   },
   {
    "duration": 10,
    "start_time": "2025-08-07T15:46:24.385Z"
   },
   {
    "duration": 1592,
    "start_time": "2025-08-07T15:46:30.255Z"
   },
   {
    "duration": 9,
    "start_time": "2025-08-07T15:46:31.849Z"
   },
   {
    "duration": 15,
    "start_time": "2025-08-07T15:46:33.565Z"
   },
   {
    "duration": 120,
    "start_time": "2025-08-07T15:47:08.294Z"
   },
   {
    "duration": 13,
    "start_time": "2025-08-07T15:48:08.811Z"
   },
   {
    "duration": 10,
    "start_time": "2025-08-07T15:48:12.658Z"
   },
   {
    "duration": 324,
    "start_time": "2025-08-07T15:48:14.696Z"
   },
   {
    "duration": 326,
    "start_time": "2025-08-07T15:49:05.941Z"
   },
   {
    "duration": 688,
    "start_time": "2025-08-07T15:49:25.990Z"
   },
   {
    "duration": 697,
    "start_time": "2025-08-07T15:49:29.990Z"
   },
   {
    "duration": 97,
    "start_time": "2025-08-07T15:49:52.108Z"
   },
   {
    "duration": 9,
    "start_time": "2025-08-07T15:50:52.115Z"
   },
   {
    "duration": 8,
    "start_time": "2025-08-07T15:51:41.686Z"
   },
   {
    "duration": 8,
    "start_time": "2025-08-07T15:51:55.794Z"
   },
   {
    "duration": 5,
    "start_time": "2025-08-07T15:52:00.354Z"
   },
   {
    "duration": 8,
    "start_time": "2025-08-07T15:53:10.335Z"
   },
   {
    "duration": 16,
    "start_time": "2025-08-07T15:55:38.487Z"
   },
   {
    "duration": 19,
    "start_time": "2025-08-07T15:56:17.003Z"
   },
   {
    "duration": 28,
    "start_time": "2025-08-07T15:56:47.300Z"
   },
   {
    "duration": 21,
    "start_time": "2025-08-07T15:57:00.439Z"
   },
   {
    "duration": 18,
    "start_time": "2025-08-07T15:57:04.944Z"
   },
   {
    "duration": 15,
    "start_time": "2025-08-07T15:57:21.026Z"
   },
   {
    "duration": 101,
    "start_time": "2025-08-07T15:57:39.517Z"
   },
   {
    "duration": 88,
    "start_time": "2025-08-07T15:57:58.632Z"
   },
   {
    "duration": 4,
    "start_time": "2025-08-07T15:59:16.610Z"
   },
   {
    "duration": 15,
    "start_time": "2025-08-07T15:59:26.709Z"
   },
   {
    "duration": 73,
    "start_time": "2025-08-07T15:59:27.886Z"
   },
   {
    "duration": 39,
    "start_time": "2025-08-07T15:59:29.090Z"
   },
   {
    "duration": 14,
    "start_time": "2025-08-07T15:59:30.641Z"
   },
   {
    "duration": 13,
    "start_time": "2025-08-07T15:59:31.006Z"
   },
   {
    "duration": 3,
    "start_time": "2025-08-07T15:59:47.610Z"
   },
   {
    "duration": 3,
    "start_time": "2025-08-07T16:00:49.971Z"
   },
   {
    "duration": 10,
    "start_time": "2025-08-07T16:00:51.570Z"
   },
   {
    "duration": 9,
    "start_time": "2025-08-07T16:00:55.457Z"
   },
   {
    "duration": 3,
    "start_time": "2025-08-07T16:00:57.825Z"
   },
   {
    "duration": 9,
    "start_time": "2025-08-07T16:00:58.414Z"
   },
   {
    "duration": 13,
    "start_time": "2025-08-07T16:03:14.122Z"
   },
   {
    "duration": 2,
    "start_time": "2025-08-07T16:03:30.684Z"
   },
   {
    "duration": 14,
    "start_time": "2025-08-07T16:03:31.295Z"
   },
   {
    "duration": 15,
    "start_time": "2025-08-07T16:04:06.924Z"
   },
   {
    "duration": 15,
    "start_time": "2025-08-07T16:04:19.634Z"
   },
   {
    "duration": 10,
    "start_time": "2025-08-07T16:05:01.935Z"
   },
   {
    "duration": 14,
    "start_time": "2025-08-07T16:05:40.288Z"
   },
   {
    "duration": 16,
    "start_time": "2025-08-07T16:05:52.541Z"
   },
   {
    "duration": 3,
    "start_time": "2025-08-07T16:06:55.292Z"
   },
   {
    "duration": 17,
    "start_time": "2025-08-07T16:06:57.488Z"
   },
   {
    "duration": 3,
    "start_time": "2025-08-07T16:10:34.729Z"
   },
   {
    "duration": 15,
    "start_time": "2025-08-07T16:10:36.073Z"
   },
   {
    "duration": 99,
    "start_time": "2025-08-07T16:11:07.525Z"
   },
   {
    "duration": 42,
    "start_time": "2025-08-07T16:11:35.069Z"
   },
   {
    "duration": 14,
    "start_time": "2025-08-07T16:11:35.296Z"
   },
   {
    "duration": 14,
    "start_time": "2025-08-07T16:11:35.553Z"
   },
   {
    "duration": 4,
    "start_time": "2025-08-07T16:11:35.779Z"
   },
   {
    "duration": 9,
    "start_time": "2025-08-07T16:12:54.149Z"
   },
   {
    "duration": 6,
    "start_time": "2025-08-07T16:12:56.525Z"
   },
   {
    "duration": 3,
    "start_time": "2025-08-07T16:12:56.918Z"
   },
   {
    "duration": 4,
    "start_time": "2025-08-07T16:13:00.433Z"
   },
   {
    "duration": 1134,
    "start_time": "2025-08-07T16:14:19.077Z"
   },
   {
    "duration": 86,
    "start_time": "2025-08-07T16:14:20.213Z"
   },
   {
    "duration": 4,
    "start_time": "2025-08-07T16:14:20.301Z"
   },
   {
    "duration": 30,
    "start_time": "2025-08-07T16:14:20.307Z"
   },
   {
    "duration": 11,
    "start_time": "2025-08-07T16:14:20.339Z"
   },
   {
    "duration": 132,
    "start_time": "2025-08-07T16:14:20.351Z"
   },
   {
    "duration": 12,
    "start_time": "2025-08-07T16:14:20.485Z"
   },
   {
    "duration": 7,
    "start_time": "2025-08-07T16:14:20.499Z"
   },
   {
    "duration": 32,
    "start_time": "2025-08-07T16:14:20.508Z"
   },
   {
    "duration": 4,
    "start_time": "2025-08-07T16:14:20.542Z"
   },
   {
    "duration": 22,
    "start_time": "2025-08-07T16:14:20.547Z"
   },
   {
    "duration": 12,
    "start_time": "2025-08-07T16:14:20.570Z"
   },
   {
    "duration": 1481,
    "start_time": "2025-08-07T16:14:20.584Z"
   },
   {
    "duration": 9,
    "start_time": "2025-08-07T16:14:22.067Z"
   },
   {
    "duration": 14,
    "start_time": "2025-08-07T16:14:22.077Z"
   },
   {
    "duration": 10,
    "start_time": "2025-08-07T16:14:22.093Z"
   },
   {
    "duration": 692,
    "start_time": "2025-08-07T16:14:22.104Z"
   },
   {
    "duration": 8,
    "start_time": "2025-08-07T16:14:22.797Z"
   },
   {
    "duration": 126,
    "start_time": "2025-08-07T16:14:22.806Z"
   },
   {
    "duration": 16,
    "start_time": "2025-08-07T16:14:22.934Z"
   },
   {
    "duration": 20,
    "start_time": "2025-08-07T16:14:22.952Z"
   },
   {
    "duration": 158,
    "start_time": "2025-08-07T16:14:22.974Z"
   },
   {
    "duration": 40,
    "start_time": "2025-08-07T16:14:23.134Z"
   },
   {
    "duration": 12,
    "start_time": "2025-08-07T16:14:23.176Z"
   },
   {
    "duration": 21,
    "start_time": "2025-08-07T16:14:23.190Z"
   },
   {
    "duration": 11,
    "start_time": "2025-08-07T16:14:23.212Z"
   },
   {
    "duration": 21,
    "start_time": "2025-08-07T16:14:23.225Z"
   },
   {
    "duration": 69,
    "start_time": "2025-08-07T16:14:23.249Z"
   },
   {
    "duration": 14,
    "start_time": "2025-08-07T16:14:23.320Z"
   },
   {
    "duration": 15,
    "start_time": "2025-08-07T16:14:23.335Z"
   },
   {
    "duration": 4,
    "start_time": "2025-08-07T16:14:23.352Z"
   },
   {
    "duration": 10,
    "start_time": "2025-08-07T16:14:23.357Z"
   },
   {
    "duration": 5,
    "start_time": "2025-08-07T16:14:23.368Z"
   },
   {
    "duration": 19,
    "start_time": "2025-08-07T16:14:23.375Z"
   },
   {
    "duration": 11866,
    "start_time": "2025-08-08T16:07:33.580Z"
   },
   {
    "duration": 111,
    "start_time": "2025-08-08T16:07:45.448Z"
   },
   {
    "duration": 5,
    "start_time": "2025-08-08T16:07:45.562Z"
   },
   {
    "duration": 16,
    "start_time": "2025-08-08T16:07:45.570Z"
   },
   {
    "duration": 9,
    "start_time": "2025-08-08T16:07:45.591Z"
   },
   {
    "duration": 251,
    "start_time": "2025-08-08T16:07:45.602Z"
   },
   {
    "duration": 35,
    "start_time": "2025-08-08T16:07:45.855Z"
   },
   {
    "duration": 7,
    "start_time": "2025-08-08T16:07:45.892Z"
   },
   {
    "duration": 16,
    "start_time": "2025-08-08T16:07:45.901Z"
   },
   {
    "duration": 4,
    "start_time": "2025-08-08T16:07:45.919Z"
   },
   {
    "duration": 25,
    "start_time": "2025-08-08T16:07:45.924Z"
   },
   {
    "duration": 26,
    "start_time": "2025-08-08T16:07:45.951Z"
   },
   {
    "duration": 1907,
    "start_time": "2025-08-08T16:07:45.979Z"
   },
   {
    "duration": 9,
    "start_time": "2025-08-08T16:07:47.890Z"
   },
   {
    "duration": 36,
    "start_time": "2025-08-08T16:07:47.901Z"
   },
   {
    "duration": 11,
    "start_time": "2025-08-08T16:07:47.939Z"
   },
   {
    "duration": 589,
    "start_time": "2025-08-08T16:07:47.952Z"
   },
   {
    "duration": 8,
    "start_time": "2025-08-08T16:07:48.543Z"
   },
   {
    "duration": 301,
    "start_time": "2025-08-08T16:07:48.553Z"
   },
   {
    "duration": 26,
    "start_time": "2025-08-08T16:07:48.855Z"
   },
   {
    "duration": 21,
    "start_time": "2025-08-08T16:07:48.883Z"
   },
   {
    "duration": 142,
    "start_time": "2025-08-08T16:11:15.019Z"
   },
   {
    "duration": 25,
    "start_time": "2025-08-08T16:11:22.309Z"
   },
   {
    "duration": 6,
    "start_time": "2025-08-08T16:11:33.884Z"
   },
   {
    "duration": 77,
    "start_time": "2025-08-08T16:11:33.893Z"
   },
   {
    "duration": 10,
    "start_time": "2025-08-08T16:11:33.972Z"
   },
   {
    "duration": 13,
    "start_time": "2025-08-08T16:11:33.987Z"
   },
   {
    "duration": 31,
    "start_time": "2025-08-08T16:11:34.003Z"
   },
   {
    "duration": 293,
    "start_time": "2025-08-08T16:11:34.036Z"
   },
   {
    "duration": 10,
    "start_time": "2025-08-08T16:11:34.331Z"
   },
   {
    "duration": 30,
    "start_time": "2025-08-08T16:11:34.343Z"
   },
   {
    "duration": 19,
    "start_time": "2025-08-08T16:11:34.377Z"
   },
   {
    "duration": 4,
    "start_time": "2025-08-08T16:11:34.398Z"
   },
   {
    "duration": 5,
    "start_time": "2025-08-08T16:11:34.404Z"
   },
   {
    "duration": 16,
    "start_time": "2025-08-08T16:11:34.410Z"
   },
   {
    "duration": 1727,
    "start_time": "2025-08-08T16:11:34.429Z"
   },
   {
    "duration": 18,
    "start_time": "2025-08-08T16:11:36.158Z"
   },
   {
    "duration": 17,
    "start_time": "2025-08-08T16:11:36.178Z"
   },
   {
    "duration": 12,
    "start_time": "2025-08-08T16:11:36.197Z"
   },
   {
    "duration": 627,
    "start_time": "2025-08-08T16:11:36.211Z"
   },
   {
    "duration": 11,
    "start_time": "2025-08-08T16:11:36.840Z"
   },
   {
    "duration": 280,
    "start_time": "2025-08-08T16:11:36.853Z"
   },
   {
    "duration": 12,
    "start_time": "2025-08-08T16:11:37.135Z"
   },
   {
    "duration": 49,
    "start_time": "2025-08-08T16:11:37.149Z"
   },
   {
    "duration": 3661,
    "start_time": "2025-08-08T16:11:46.534Z"
   },
   {
    "duration": 82,
    "start_time": "2025-08-08T16:11:50.197Z"
   },
   {
    "duration": 7,
    "start_time": "2025-08-08T16:11:50.285Z"
   },
   {
    "duration": 56,
    "start_time": "2025-08-08T16:11:50.295Z"
   },
   {
    "duration": 7,
    "start_time": "2025-08-08T16:11:50.353Z"
   },
   {
    "duration": 288,
    "start_time": "2025-08-08T16:11:50.362Z"
   },
   {
    "duration": 29,
    "start_time": "2025-08-08T16:11:50.652Z"
   },
   {
    "duration": 8,
    "start_time": "2025-08-08T16:11:50.685Z"
   },
   {
    "duration": 18,
    "start_time": "2025-08-08T16:11:50.694Z"
   },
   {
    "duration": 9,
    "start_time": "2025-08-08T16:11:50.716Z"
   },
   {
    "duration": 8,
    "start_time": "2025-08-08T16:11:50.727Z"
   },
   {
    "duration": 48,
    "start_time": "2025-08-08T16:11:50.737Z"
   },
   {
    "duration": 2019,
    "start_time": "2025-08-08T16:11:50.790Z"
   },
   {
    "duration": 8,
    "start_time": "2025-08-08T16:11:52.811Z"
   },
   {
    "duration": 80,
    "start_time": "2025-08-08T16:11:52.821Z"
   },
   {
    "duration": 33,
    "start_time": "2025-08-08T16:11:52.903Z"
   },
   {
    "duration": 592,
    "start_time": "2025-08-08T16:11:52.938Z"
   },
   {
    "duration": 8,
    "start_time": "2025-08-08T16:11:53.531Z"
   },
   {
    "duration": 299,
    "start_time": "2025-08-08T16:11:53.541Z"
   },
   {
    "duration": 12,
    "start_time": "2025-08-08T16:11:53.842Z"
   },
   {
    "duration": 159,
    "start_time": "2025-08-08T16:11:53.856Z"
   },
   {
    "duration": 17,
    "start_time": "2025-08-08T16:12:14.099Z"
   },
   {
    "duration": 31,
    "start_time": "2025-08-08T16:12:24.294Z"
   },
   {
    "duration": 4,
    "start_time": "2025-08-08T16:12:31.117Z"
   },
   {
    "duration": 91,
    "start_time": "2025-08-08T16:12:31.123Z"
   },
   {
    "duration": 5,
    "start_time": "2025-08-08T16:12:31.216Z"
   },
   {
    "duration": 28,
    "start_time": "2025-08-08T16:12:31.223Z"
   },
   {
    "duration": 8,
    "start_time": "2025-08-08T16:12:31.253Z"
   },
   {
    "duration": 267,
    "start_time": "2025-08-08T16:12:31.263Z"
   },
   {
    "duration": 11,
    "start_time": "2025-08-08T16:12:31.533Z"
   },
   {
    "duration": 32,
    "start_time": "2025-08-08T16:12:31.547Z"
   },
   {
    "duration": 20,
    "start_time": "2025-08-08T16:12:31.582Z"
   },
   {
    "duration": 60,
    "start_time": "2025-08-08T16:12:31.604Z"
   },
   {
    "duration": 20,
    "start_time": "2025-08-08T16:12:31.666Z"
   },
   {
    "duration": 20,
    "start_time": "2025-08-08T16:12:31.688Z"
   },
   {
    "duration": 1744,
    "start_time": "2025-08-08T16:12:31.710Z"
   },
   {
    "duration": 8,
    "start_time": "2025-08-08T16:12:33.456Z"
   },
   {
    "duration": 39,
    "start_time": "2025-08-08T16:12:33.471Z"
   },
   {
    "duration": 8,
    "start_time": "2025-08-08T16:12:33.512Z"
   },
   {
    "duration": 631,
    "start_time": "2025-08-08T16:12:33.522Z"
   },
   {
    "duration": 9,
    "start_time": "2025-08-08T16:12:34.154Z"
   },
   {
    "duration": 273,
    "start_time": "2025-08-08T16:12:34.164Z"
   },
   {
    "duration": 12,
    "start_time": "2025-08-08T16:12:34.439Z"
   },
   {
    "duration": 40,
    "start_time": "2025-08-08T16:12:34.453Z"
   },
   {
    "duration": 25,
    "start_time": "2025-08-08T16:12:38.066Z"
   },
   {
    "duration": 45,
    "start_time": "2025-08-10T08:00:55.317Z"
   },
   {
    "duration": 1250,
    "start_time": "2025-08-10T08:01:02.022Z"
   },
   {
    "duration": 58,
    "start_time": "2025-08-10T08:01:03.274Z"
   },
   {
    "duration": 4,
    "start_time": "2025-08-10T08:01:03.486Z"
   },
   {
    "duration": 128,
    "start_time": "2025-08-10T08:01:03.659Z"
   },
   {
    "duration": 8,
    "start_time": "2025-08-10T08:01:04.194Z"
   },
   {
    "duration": 207,
    "start_time": "2025-08-10T08:01:04.399Z"
   },
   {
    "duration": 13,
    "start_time": "2025-08-10T08:01:05.061Z"
   },
   {
    "duration": 6,
    "start_time": "2025-08-10T08:01:05.463Z"
   },
   {
    "duration": 10,
    "start_time": "2025-08-10T08:01:06.187Z"
   },
   {
    "duration": 4,
    "start_time": "2025-08-10T08:01:09.941Z"
   },
   {
    "duration": 4,
    "start_time": "2025-08-10T08:01:12.419Z"
   },
   {
    "duration": 12,
    "start_time": "2025-08-10T08:01:13.046Z"
   },
   {
    "duration": 90,
    "start_time": "2025-08-10T08:01:58.406Z"
   },
   {
    "duration": 1451,
    "start_time": "2025-08-10T08:03:28.144Z"
   },
   {
    "duration": 8,
    "start_time": "2025-08-10T08:03:29.597Z"
   },
   {
    "duration": 38,
    "start_time": "2025-08-10T08:03:29.607Z"
   },
   {
    "duration": 8,
    "start_time": "2025-08-10T08:03:32.443Z"
   },
   {
    "duration": 664,
    "start_time": "2025-08-10T08:03:33.271Z"
   },
   {
    "duration": 10,
    "start_time": "2025-08-10T08:03:35.068Z"
   },
   {
    "duration": 107,
    "start_time": "2025-08-10T08:03:35.298Z"
   },
   {
    "duration": 12,
    "start_time": "2025-08-10T08:03:36.099Z"
   },
   {
    "duration": 16,
    "start_time": "2025-08-10T08:03:36.923Z"
   },
   {
    "duration": 73,
    "start_time": "2025-08-10T08:03:50.751Z"
   },
   {
    "duration": 18,
    "start_time": "2025-08-10T08:04:21.531Z"
   },
   {
    "duration": 89,
    "start_time": "2025-08-10T08:04:40.184Z"
   },
   {
    "duration": 14,
    "start_time": "2025-08-10T08:04:44.103Z"
   },
   {
    "duration": 22,
    "start_time": "2025-08-10T08:06:38.198Z"
   },
   {
    "duration": 7,
    "start_time": "2025-08-10T08:10:35.332Z"
   },
   {
    "duration": 5,
    "start_time": "2025-08-10T08:10:56.008Z"
   },
   {
    "duration": 72,
    "start_time": "2025-08-10T08:11:19.967Z"
   },
   {
    "duration": 38,
    "start_time": "2025-08-10T08:11:21.385Z"
   },
   {
    "duration": 14,
    "start_time": "2025-08-10T08:11:22.395Z"
   },
   {
    "duration": 13,
    "start_time": "2025-08-10T08:11:22.735Z"
   },
   {
    "duration": 3,
    "start_time": "2025-08-10T08:11:25.839Z"
   },
   {
    "duration": 3,
    "start_time": "2025-08-10T08:12:36.844Z"
   },
   {
    "duration": 13,
    "start_time": "2025-08-10T08:12:37.834Z"
   },
   {
    "duration": 86,
    "start_time": "2025-08-10T08:12:58.314Z"
   },
   {
    "duration": 49,
    "start_time": "2025-08-10T08:13:05.436Z"
   },
   {
    "duration": 15,
    "start_time": "2025-08-10T08:13:05.725Z"
   },
   {
    "duration": 14,
    "start_time": "2025-08-10T08:13:06.203Z"
   },
   {
    "duration": 3,
    "start_time": "2025-08-10T08:13:06.515Z"
   },
   {
    "duration": 5,
    "start_time": "2025-08-10T08:14:31.614Z"
   },
   {
    "duration": 3,
    "start_time": "2025-08-10T08:14:31.967Z"
   },
   {
    "duration": 3,
    "start_time": "2025-08-10T08:14:33.289Z"
   },
   {
    "duration": 1152,
    "start_time": "2025-08-11T05:51:16.498Z"
   },
   {
    "duration": 56,
    "start_time": "2025-08-11T05:51:17.652Z"
   },
   {
    "duration": 5,
    "start_time": "2025-08-11T05:51:17.710Z"
   },
   {
    "duration": 8,
    "start_time": "2025-08-11T05:51:17.718Z"
   },
   {
    "duration": 8,
    "start_time": "2025-08-11T05:51:17.728Z"
   },
   {
    "duration": 141,
    "start_time": "2025-08-11T05:51:17.738Z"
   },
   {
    "duration": 13,
    "start_time": "2025-08-11T05:51:17.881Z"
   },
   {
    "duration": 6,
    "start_time": "2025-08-11T05:51:17.896Z"
   },
   {
    "duration": 29,
    "start_time": "2025-08-11T05:51:17.904Z"
   },
   {
    "duration": 24,
    "start_time": "2025-08-11T05:51:17.936Z"
   },
   {
    "duration": 3,
    "start_time": "2025-08-11T05:51:17.962Z"
   },
   {
    "duration": 13,
    "start_time": "2025-08-11T05:51:17.967Z"
   },
   {
    "duration": 1600,
    "start_time": "2025-08-11T05:51:17.982Z"
   },
   {
    "duration": 7,
    "start_time": "2025-08-11T05:51:19.584Z"
   },
   {
    "duration": 39,
    "start_time": "2025-08-11T05:51:19.593Z"
   },
   {
    "duration": 9,
    "start_time": "2025-08-11T05:51:19.634Z"
   },
   {
    "duration": 709,
    "start_time": "2025-08-11T05:51:19.645Z"
   },
   {
    "duration": 11,
    "start_time": "2025-08-11T05:51:20.355Z"
   },
   {
    "duration": 175,
    "start_time": "2025-08-11T05:51:20.367Z"
   },
   {
    "duration": 17,
    "start_time": "2025-08-11T05:51:20.543Z"
   },
   {
    "duration": 23,
    "start_time": "2025-08-11T05:51:20.562Z"
   },
   {
    "duration": 5,
    "start_time": "2025-08-11T05:51:20.586Z"
   },
   {
    "duration": 99,
    "start_time": "2025-08-11T05:51:20.592Z"
   },
   {
    "duration": 61,
    "start_time": "2025-08-11T05:51:20.692Z"
   },
   {
    "duration": 13,
    "start_time": "2025-08-11T05:51:20.755Z"
   },
   {
    "duration": 22,
    "start_time": "2025-08-11T05:51:20.770Z"
   },
   {
    "duration": 13,
    "start_time": "2025-08-11T05:51:20.794Z"
   },
   {
    "duration": 30,
    "start_time": "2025-08-11T05:51:20.810Z"
   },
   {
    "duration": 59,
    "start_time": "2025-08-11T05:51:20.841Z"
   },
   {
    "duration": 15,
    "start_time": "2025-08-11T05:51:20.902Z"
   },
   {
    "duration": 26,
    "start_time": "2025-08-11T05:51:20.919Z"
   },
   {
    "duration": 14,
    "start_time": "2025-08-11T05:51:20.947Z"
   },
   {
    "duration": 104,
    "start_time": "2025-08-11T05:51:20.963Z"
   },
   {
    "duration": 5,
    "start_time": "2025-08-11T05:51:21.069Z"
   },
   {
    "duration": 9,
    "start_time": "2025-08-11T05:51:21.075Z"
   }
  ],
  "colab": {
   "provenance": [],
   "toc_visible": true
  },
  "kernelspec": {
   "display_name": "Python 3 (ipykernel)",
   "language": "python",
   "name": "python3"
  },
  "language_info": {
   "codemirror_mode": {
    "name": "ipython",
    "version": 3
   },
   "file_extension": ".py",
   "mimetype": "text/x-python",
   "name": "python",
   "nbconvert_exporter": "python",
   "pygments_lexer": "ipython3",
   "version": "3.9.5"
  },
  "toc": {
   "base_numbering": 1,
   "nav_menu": {},
   "number_sections": true,
   "sideBar": true,
   "skip_h1_title": true,
   "title_cell": "Table of Contents",
   "title_sidebar": "Contents",
   "toc_cell": false,
   "toc_position": {},
   "toc_section_display": true,
   "toc_window_display": false
  }
 },
 "nbformat": 4,
 "nbformat_minor": 5
}
